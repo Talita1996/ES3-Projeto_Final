{
 "cells": [
  {
   "cell_type": "markdown",
   "source": [
    "# Exercicios do Capítulo 4\n",
    "## Orientação a Objetos em Python\n",
    "\n",
    "As propostas de solução são apresentadas no outro notebook. Nosso intuito é que você tente fazer os exercicios e confira a solução apresentada para observar se o resultado será o mesmo. Muito provavel que a solução não seja a mesma, mas, como o nome diz, é uma proposta de solução."
   ],
   "metadata": {}
  },
  {
   "cell_type": "markdown",
   "source": [
    "### Questão 1\r\n",
    "Identifique as classes e implemente um programa para a seguinte especificação: \r\n",
    "> “O supermercado vende diferentes tipos de *produtos*. Cada produto tem um preço e uma quantidade em estoque. Um *pedido* de um cliente é composto de *itens*, onde cada item especifica o produto que o cliente deseja e a respectiva quantidade. Esse pedido pode ser pago em dinheiro, cheque ou cartão.”"
   ],
   "metadata": {}
  },
  {
   "cell_type": "code",
   "execution_count": null,
   "source": [],
   "outputs": [],
   "metadata": {}
  },
  {
   "cell_type": "markdown",
   "source": [
    "### Questão 2\r\n",
    "Faça um programa de agenda telefônica, com as classes:\r\n",
    " - *Agenda* e \r\n",
    " - *Contato*."
   ],
   "metadata": {}
  },
  {
   "cell_type": "code",
   "execution_count": null,
   "source": [],
   "outputs": [],
   "metadata": {}
  },
  {
   "cell_type": "markdown",
   "source": [
    "### Questão 3\r\n",
    "Faça um programa para controle de empréstimo de livros, com as classes:\r\n",
    " - *Emprestimo*, \r\n",
    " - *Livro* e \r\n",
    " - *Pessoa*."
   ],
   "metadata": {}
  },
  {
   "cell_type": "code",
   "execution_count": null,
   "source": [],
   "outputs": [],
   "metadata": {}
  },
  {
   "cell_type": "markdown",
   "source": [
    "### Questão 4\r\n",
    "Faça uma programa para representar a árvore genealógica de uma família. Para tal, crie uma classe *Pessoa* que permita indicar, além de nome e idade, o pai e a mãe. \r\n",
    "\r\n",
    "**OBS.:** Tenha em mente que pai e mãe também são do tipo Pessoa."
   ],
   "metadata": {}
  },
  {
   "cell_type": "code",
   "execution_count": null,
   "source": [],
   "outputs": [],
   "metadata": {}
  },
  {
   "cell_type": "markdown",
   "source": [
    "### Questão 5\r\n",
    "Faça um programa que calcule a área de uma figura geométrica. Aceite quatro tipos de figura geométrica: \r\n",
    " - *quadrado*, \r\n",
    " - *retângulo*, \r\n",
    " - *triângulo* e \r\n",
    " - *círculo*. \r\n",
    " \r\n",
    "**OBS.:** Use herança."
   ],
   "metadata": {}
  },
  {
   "cell_type": "code",
   "execution_count": null,
   "source": [],
   "outputs": [],
   "metadata": {}
  }
 ],
 "metadata": {
  "kernelspec": {
   "display_name": "Python 3",
   "language": "python",
   "name": "python3"
  },
  "language_info": {
   "codemirror_mode": {
    "name": "ipython",
    "version": 3
   },
   "file_extension": ".py",
   "mimetype": "text/x-python",
   "name": "python",
   "nbconvert_exporter": "python",
   "pygments_lexer": "ipython3",
   "version": "3.8.8"
  }
 },
 "nbformat": 4,
 "nbformat_minor": 5
}