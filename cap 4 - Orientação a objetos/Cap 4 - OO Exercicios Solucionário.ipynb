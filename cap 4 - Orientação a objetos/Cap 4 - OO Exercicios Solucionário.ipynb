{
 "cells": [
  {
   "cell_type": "markdown",
   "source": [
    "# Exercicios do Capítulo 4\r\n",
    "## Orientação a Objetos em Python\r\n",
    "\r\n",
    "Este notebook contem uma proposta de solução para cada exercicio proposto no outro notebook. Nosso intuito é que você tente fazer os exercicios e confira a solução apresentada para observar se o resultado será o mesmo. Muito provavel que a solução não seja a mesma, mas, como o nome diz, é uma proposta de solução."
   ],
   "metadata": {}
  },
  {
   "cell_type": "markdown",
   "source": [
    "### Questão 1\r\n",
    "Identifique as classes e implemente um programa para a seguinte especificação: \r\n",
    "> “O supermercado vende diferentes tipos de *produtos*. Cada produto tem um preço e uma quantidade em estoque. Um *pedido* de um cliente é composto de *itens*, onde cada item especifica o produto que o cliente deseja e a respectiva quantidade. Esse pedido pode ser pago em dinheiro, cheque ou cartão.”"
   ],
   "metadata": {}
  },
  {
   "cell_type": "code",
   "execution_count": 1,
   "source": [
    "class Produto:\r\n",
    "  def __init__(self, preco = 1.0, qtd = 0):\r\n",
    "    self.preco = preco\r\n",
    "    self.qtd = qtd\r\n",
    "\r\n",
    "class Item:\r\n",
    "  def __init__(self, produto, qtd = 1):\r\n",
    "    self.produto = produto\r\n",
    "    self.qtd = qtd\r\n",
    "\r\n",
    "class Pedido:\r\n",
    "  def __init__(self, itens=[], pagamento = \"dinheiro\"):\r\n",
    "    self.itens = itens\r\n",
    "    self.pagamento = pagamento\r\n",
    "\r\n",
    "produtos = [Produto(3.0,5),Produto(2.5,10),Produto(4.5,4),Produto(1.0,20)]\r\n",
    "\r\n",
    "pedido = Pedido([\r\n",
    "                 Item(produtos[0],1),\r\n",
    "                 Item(produtos[1],3),\r\n",
    "                 Item(produtos[2]),\r\n",
    "\r\n",
    "],\"cartão\")"
   ],
   "outputs": [],
   "metadata": {}
  },
  {
   "cell_type": "markdown",
   "source": [
    "### Questão 2\r\n",
    "Faça um programa de agenda telefônica, com as classes:\r\n",
    " - *Agenda* e \r\n",
    " - *Contato*."
   ],
   "metadata": {}
  },
  {
   "cell_type": "code",
   "execution_count": 2,
   "source": [
    "class Contato:\r\n",
    "  def __init__(self, nome, telefone):\r\n",
    "    self.nome = nome\r\n",
    "    self.telefone = telefone\r\n",
    "\r\n",
    "class Agenda:\r\n",
    "  def __init__(self, contatos = []):\r\n",
    "    self.contatos = contatos\r\n",
    "\r\n",
    "agenda = Agenda([\r\n",
    "                 Contato(\"joao\",\"1234\"),\r\n",
    "                 Contato(\"maria\",\"4321\"),\r\n",
    "                 Contato(\"jose\",\"5780\"),\r\n",
    "])"
   ],
   "outputs": [],
   "metadata": {}
  },
  {
   "cell_type": "markdown",
   "source": [
    "### Questão 3\r\n",
    "Faça um programa para controle de empréstimo de livros, com as classes:\r\n",
    " - *Emprestimo*, \r\n",
    " - *Livro* e \r\n",
    " - *Pessoa*."
   ],
   "metadata": {}
  },
  {
   "cell_type": "code",
   "execution_count": 5,
   "source": [
    "class Pessoa:\r\n",
    "  def __init__(self, cpf, nome):\r\n",
    "    self.cpf = cpf\r\n",
    "    self.nome = nome\r\n",
    "\r\n",
    "class Livro:\r\n",
    "  def __init__(self, nome, autor):\r\n",
    "    self.nome = nome\r\n",
    "    self.autor = autor\r\n",
    "\r\n",
    "class Emprestimo:\r\n",
    "  def __init__(self, pessoa, livro, data):\r\n",
    "    self.pessoa = pessoa\r\n",
    "    self.livro = livro\r\n",
    "    self.data = data\r\n",
    "\r\n",
    "pessoas = [Pessoa(\"1234\",\"Joao\"),Pessoa(\"4321\",\"Maria\")]\r\n",
    "livros = [Livro(\"O coisa\", \"Inchado de Assis\"), Livro(\"A coisa\", \"Ossapo Bilac\"),]\r\n",
    "\r\n",
    "emprestimo = Emprestimo(pessoas[0], livros[1], '2021-02-30')"
   ],
   "outputs": [],
   "metadata": {}
  },
  {
   "cell_type": "markdown",
   "source": [
    "### Questão 4\r\n",
    "Faça uma programa para representar a árvore genealógica de uma família. Para tal, crie uma classe *Pessoa* que permita indicar, além de nome e idade, o pai e a mãe. \r\n",
    "\r\n",
    "**OBS.:** Tenha em mente que pai e mãe também são do tipo Pessoa."
   ],
   "metadata": {}
  },
  {
   "cell_type": "code",
   "execution_count": 6,
   "source": [
    "class Pessoa:\r\n",
    "  def __init__(self, nome, pai, mae):\r\n",
    "    self.nome = nome\r\n",
    "    self.pai = pai\r\n",
    "    self.mae = mae\r\n",
    "\r\n",
    "pessoa1 = Pessoa(\"José\", None, None)\r\n",
    "pessoa2 = Pessoa(\"Maria\", None, None)\r\n",
    "\r\n",
    "pessoa3 = Pessoa(\"João\", pessoa1, pessoa2)"
   ],
   "outputs": [],
   "metadata": {}
  },
  {
   "cell_type": "markdown",
   "source": [
    "### Questão 5\r\n",
    "Faça um programa que calcule a área de uma figura geométrica. Aceite quatro tipos de figura geométrica: \r\n",
    " - *quadrado*, \r\n",
    " - *retângulo*, \r\n",
    " - *triângulo* e \r\n",
    " - *círculo*. \r\n",
    " \r\n",
    "**OBS.:** Use herança."
   ],
   "metadata": {}
  },
  {
   "cell_type": "code",
   "execution_count": 7,
   "source": [
    "from abc import ABC, abstractmethod\r\n",
    "import math\r\n",
    "\r\n",
    "class Figura(ABC):\r\n",
    "  @abstractmethod\r\n",
    "  def area(self):\r\n",
    "    pass\r\n",
    "\r\n",
    "class Quadrado(Figura):\r\n",
    "  def __init__(self, lado):\r\n",
    "    self.lado = lado\r\n",
    "\r\n",
    "  def area(self):\r\n",
    "    return self.lado ** 2\r\n",
    "\r\n",
    "class Retangulo(Figura):\r\n",
    "  def __init__(self, largura, altura):\r\n",
    "    self.largura = largura\r\n",
    "    self.altura = altura\r\n",
    "\r\n",
    "  def area(self):\r\n",
    "    return self.largura * self.altura\r\n",
    "\r\n",
    "class Triangulo(Figura):\r\n",
    "  def __init__(self, base, altura):\r\n",
    "    self.base = base\r\n",
    "    self.altura = altura\r\n",
    "  \r\n",
    "  def area(self):\r\n",
    "    return (self.base * self.altura) /2\r\n",
    "\r\n",
    "class Circulo(Figura):\r\n",
    "  def __init__(self, raio):\r\n",
    "    self.raio = raio\r\n",
    "\r\n",
    "  def area(self):\r\n",
    "    return self.raio ** 2 * math.pi\r\n",
    "\r\n",
    "figura = Quadrado(2)\r\n",
    "print(figura.area())\r\n",
    "\r\n",
    "figura = Retangulo(3,4)\r\n",
    "print(figura.area())\r\n",
    "\r\n",
    "figura = Triangulo(5,6)\r\n",
    "print(figura.area())\r\n",
    "\r\n",
    "figura = Circulo(3)\r\n",
    "print(figura.area())"
   ],
   "outputs": [
    {
     "output_type": "stream",
     "name": "stdout",
     "text": [
      "4\n",
      "12\n",
      "15.0\n",
      "28.274333882308138\n"
     ]
    }
   ],
   "metadata": {}
  }
 ],
 "metadata": {
  "kernelspec": {
   "name": "python3",
   "display_name": "Python 3.8.8 64-bit ('base': conda)"
  },
  "language_info": {
   "codemirror_mode": {
    "name": "ipython",
    "version": 3
   },
   "file_extension": ".py",
   "mimetype": "text/x-python",
   "name": "python",
   "nbconvert_exporter": "python",
   "pygments_lexer": "ipython3",
   "version": "3.8.8"
  },
  "interpreter": {
   "hash": "600c25c12856a842ab64bd468beca1647a20977f2accb2696f130eafa2c53eb8"
  }
 },
 "nbformat": 4,
 "nbformat_minor": 5
}